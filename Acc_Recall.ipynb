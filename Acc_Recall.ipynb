{
 "cells": [
  {
   "cell_type": "code",
   "execution_count": 2,
   "metadata": {},
   "outputs": [],
   "source": [
    "import torch\n",
    "from _code.Feature import featuralize\n",
    "from _code.Utils import recall, recall2"
   ]
  },
  {
   "cell_type": "code",
   "execution_count": null,
   "metadata": {},
   "outputs": [],
   "source": [
    "# 'CUB_R50_result_r32_lam1.0/SHN/D64_lr0.005/2/'\n",
    "# 'CUB_R50_result_r32_lam1.0/SCT/D64_lr0.005/2/'\n",
    "data_dict = torch.load('/home/xuanhong/datasets/CUB/data_dict_emb.pth')\n",
    "src_model = 'CUB_R50_result_r32_lam1.0/SHN/D64_lr0.005/2/'\n",
    "fvec, dsets = featuralize('CUB', data_dict['val'], src_model, 'R50', 64)\n",
    "recall(fvec, dsets.idx_to_class, rank=[1,2,4,8])"
   ]
  },
  {
   "cell_type": "code",
   "execution_count": null,
   "metadata": {},
   "outputs": [],
   "source": [
    "data_dict = torch.load('/home/xuanhong/datasets/CAR/data_dict_emb.pth')\n",
    "src_model = 'CAR_R50_result_r64_lam1.0/SCT/D64_lr0.005/2/'\n",
    "fvec, dsets = featuralize('CAR', data_dict['val'], src_model, 'R50', 64)\n",
    "recall(fvec, dsets.idx_to_class, rank=[1,2,4,8])"
   ]
  },
  {
   "cell_type": "code",
   "execution_count": null,
   "metadata": {},
   "outputs": [],
   "source": [
    "data_dict = torch.load('/home/xuanhong/datasets/ICR/data_dict_emb.pth')\n",
    "src_model = 'ICR_R50_result_lam1.0/'\n",
    "fvec_val, dsets_val = featuralize('ICR', data_dict['val'], src_model, 'R50', 64)\n",
    "fvec_gal, dsets_gal = featuralize('ICR', data_dict['gal'], src_model, 'R50', 64)\n",
    "recall2(fvec_val, fvec_gal, dsets_val.idx_to_class, dsets_gal.idx_to_class, rank=[1,10,100])"
   ]
  }
 ],
 "metadata": {
  "kernelspec": {
   "display_name": "Python 3",
   "language": "python",
   "name": "python3"
  },
  "language_info": {
   "codemirror_mode": {
    "name": "ipython",
    "version": 3
   },
   "file_extension": ".py",
   "mimetype": "text/x-python",
   "name": "python",
   "nbconvert_exporter": "python",
   "pygments_lexer": "ipython3",
   "version": "3.7.3"
  }
 },
 "nbformat": 4,
 "nbformat_minor": 2
}
